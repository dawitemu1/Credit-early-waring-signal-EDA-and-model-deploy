{
 "cells": [
  {
   "cell_type": "markdown",
   "id": "94a27028-657e-45d0-9c4c-67dd597147e4",
   "metadata": {
    "slideshow": {
     "slide_type": "slide"
    },
    "tags": []
   },
   "source": [
    "<div class=\"alert alert-info\" role=\"alert\">\n",
    "  <p>\n",
    "    This lesson is part of the <b>AI and Data Science Training</b>. For that reason, this notebook can only be used on your local or vertual machine.\n",
    "  </p>\n",
    "\n",
    "  <p>\n",
    "    This means:\n",
    "    <ul>\n",
    "      <li><span style=\"color: red\">ⓧ</span> No adding this notebook to public or private repositories.</li>\n",
    "      <li><span style=\"color: red\">ⓧ</span> No uploading this notebook (or screenshots of it) to other websites, including websites for study resources.</li>\n",
    "    </ul>\n",
    "\n",
    "  </p>\n",
    "</div>"
   ]
  },
  {
   "cell_type": "markdown",
   "id": "268a825e-d09f-42fa-b16c-f979940e9053",
   "metadata": {
    "slideshow": {
     "slide_type": "slide"
    },
    "tags": []
   },
   "source": [
    "<font size=\"+3\"><strong>Python: Advanced</strong></font>"
   ]
  },
  {
   "cell_type": "markdown",
   "id": "5f034c5e-57b7-4407-b1c5-1478cf757389",
   "metadata": {
    "slideshow": {
     "slide_type": "subslide"
    },
    "tags": []
   },
   "source": [
    "# Strings"
   ]
  },
  {
   "cell_type": "markdown",
   "id": "10afd8bb-db76-4b0d-9e39-ef20ac087710",
   "metadata": {
    "slideshow": {
     "slide_type": "subslide"
    },
    "tags": []
   },
   "source": [
    "## What's a string? <a id='whats-a-string'></a>\n",
    "\n",
    "Recall that a `string` is any kind of information that can be represented with letters."
   ]
  },
  {
   "cell_type": "markdown",
   "id": "060d0d90-e28c-4b4b-94a7-5240d3f83e41",
   "metadata": {
    "slideshow": {
     "slide_type": "subslide"
    },
    "tags": []
   },
   "source": [
    "## Manipulating Strings"
   ]
  },
  {
   "cell_type": "markdown",
   "id": "1ab02e8f-7ad4-4fe9-90d7-70169bb57773",
   "metadata": {},
   "source": [
    "We can `split` a string on a specific character, transforming it into a list:"
   ]
  },
  {
   "cell_type": "code",
   "execution_count": 1,
   "id": "caedfc19-94da-48dc-a4e5-c74dc15cad6c",
   "metadata": {},
   "outputs": [
    {
     "data": {
      "text/plain": [
       "['sessame', 'commodity', 'exchange', '1']"
      ]
     },
     "execution_count": 1,
     "metadata": {},
     "output_type": "execute_result"
    }
   ],
   "source": [
    "file_name = \"sessame-commodity-exchange-1\"\n",
    "file_name.split(\"-\")"
   ]
  },
  {
   "cell_type": "markdown",
   "id": "d3ed6f9d-8f72-4da7-bc45-3136eeaff298",
   "metadata": {},
   "source": [
    "This can be useful for a set of strings with similar naming conventions for us to access specific information. For example, we can collect the digit as the file number in the string:"
   ]
  },
  {
   "cell_type": "code",
   "execution_count": 2,
   "id": "199a05c7-6855-41f7-87c4-6008bb448b9a",
   "metadata": {},
   "outputs": [
    {
     "data": {
      "text/plain": [
       "'1'"
      ]
     },
     "execution_count": 2,
     "metadata": {},
     "output_type": "execute_result"
    }
   ],
   "source": [
    "file_name_number = file_name.split(\"-\")[-1]\n",
    "file_name_number"
   ]
  },
  {
   "cell_type": "markdown",
   "id": "3ade6300-f660-462d-9f83-808c4ae15a01",
   "metadata": {},
   "source": [
    "Another useful function to manipulate a string is `replace`. We can use it to replace any element in the string with another item. Note we put what we what to replace in the front and what we replace it with in the back:"
   ]
  },
  {
   "cell_type": "code",
   "execution_count": 10,
   "id": "12aa1420-280e-4368-978a-6a12e5ae1f0e",
   "metadata": {},
   "outputs": [
    {
     "data": {
      "text/plain": [
       "'sessame_commodity_exchange_1'"
      ]
     },
     "execution_count": 10,
     "metadata": {},
     "output_type": "execute_result"
    }
   ],
   "source": [
    "file_name = \"sessame-commodity-exchange-1\"\n",
    "\n",
    "modified_file_name = file_name.replace(\"-\", \"_\")\n",
    "\n",
    "modified_file_name"
   ]
  },
  {
   "cell_type": "markdown",
   "id": "09c33b7b-c692-4f4b-9e11-b9dcaeba9de0",
   "metadata": {
    "slideshow": {
     "slide_type": ""
    },
    "tags": []
   },
   "source": [
    "<font size=\"+1\">**Practice**</font>\n",
    "\n",
    "**Try it yourself!** \n",
    "\n",
    "\n",
    "Change `\"sessame-commodity-exchange-1\"` to `\"sessame-commodity-exchange\"` using replace. \n",
    "\n",
    "**Hint:** To delete a character, we can replace it with an empty string (`\"\"`)."
   ]
  },
  {
   "cell_type": "code",
   "execution_count": 6,
   "id": "173a7d14",
   "metadata": {},
   "outputs": [
    {
     "data": {
      "text/plain": [
       "'ECX'"
      ]
     },
     "execution_count": 6,
     "metadata": {},
     "output_type": "execute_result"
    }
   ],
   "source": [
    "file_name = \"sessame-commodity-exchange-1\"\n",
    "\n",
    "modified_file_name = file_name.replace(\"sessame-commodity-exchange-1\", \"ECX\")\n",
    "\n",
    "modified_file_name"
   ]
  },
  {
   "cell_type": "code",
   "execution_count": 12,
   "id": "f9bc0dd4",
   "metadata": {},
   "outputs": [
    {
     "data": {
      "text/plain": [
       "'My home is Gondar'"
      ]
     },
     "execution_count": 12,
     "metadata": {},
     "output_type": "execute_result"
    }
   ],
   "source": [
    "home=\"Gondar\"\n",
    "f\"My home is {home}\""
   ]
  },
  {
   "cell_type": "code",
   "execution_count": null,
   "id": "255a39c1",
   "metadata": {},
   "outputs": [],
   "source": []
  },
  {
   "cell_type": "code",
   "execution_count": null,
   "id": "5407460e",
   "metadata": {},
   "outputs": [],
   "source": []
  },
  {
   "cell_type": "code",
   "execution_count": null,
   "id": "614253d4",
   "metadata": {},
   "outputs": [],
   "source": []
  },
  {
   "cell_type": "code",
   "execution_count": null,
   "id": "0a541a60",
   "metadata": {},
   "outputs": [],
   "source": []
  },
  {
   "cell_type": "code",
   "execution_count": 3,
   "id": "a16031cc-6869-44d0-9828-beebabb794da",
   "metadata": {
    "slideshow": {
     "slide_type": ""
    },
    "tags": []
   },
   "outputs": [
    {
     "data": {
      "text/plain": [
       "Ellipsis"
      ]
     },
     "execution_count": 3,
     "metadata": {},
     "output_type": "execute_result"
    }
   ],
   "source": [
    "file_name = \"sessame-commodity-exchange-1\"\n",
    "\n",
    "modified_file_name = ...\n",
    "\n",
    "modified_file_name"
   ]
  },
  {
   "cell_type": "markdown",
   "id": "fbfb91db-1f9c-4a03-bf95-774dd3c2d8f4",
   "metadata": {},
   "source": [
    "## Working with f-strings <a id='working-with-f-strings'></a>"
   ]
  },
  {
   "cell_type": "markdown",
   "id": "59ccea1b-3de4-4690-b118-ad948c3690db",
   "metadata": {},
   "source": [
    "- We usually use `print` to examine output in Python, but most of the examples we've been printing have been relatively short. \n",
    "- Formatted strings are helpful for all sorts of reasons, but when we're assembling and formatting a long string, using the `print` function can be difficult and time-consuming.\n",
    "-  Along the same lines, it's also useful to directly evaluate variables and expressions within strings. To do those things, we create `f\"\"` strings. The code looks like this:"
   ]
  },
  {
   "cell_type": "code",
   "execution_count": 13,
   "id": "eb1eacd5-325b-4444-bc92-e3bc5d8b433c",
   "metadata": {},
   "outputs": [
    {
     "data": {
      "text/plain": [
       "'My home is Bahir Dar City'"
      ]
     },
     "execution_count": 13,
     "metadata": {},
     "output_type": "execute_result"
    }
   ],
   "source": [
    "Home = \"Bahir Dar City\"\n",
    "f\"My home is {Home}\""
   ]
  },
  {
   "cell_type": "code",
   "execution_count": 25,
   "id": "f267c849-412a-4fb8-a0fc-0955d2bb328d",
   "metadata": {},
   "outputs": [
    {
     "name": "stdout",
     "output_type": "stream",
     "text": [
      "My sister born on October 08 in the year 1996.\n",
      "My sister is 28 years old.\n"
     ]
    }
   ],
   "source": [
    "import datetime\n",
    "\n",
    "mySister_birthday = datetime.datetime(year=1996, month=10, day=8)\n",
    "print(\n",
    "    f\"My sister born on {mySister_birthday:%B %d} in the year {mySister_birthday:%Y}.\"\n",
    ")\n",
    "\n",
    "now = datetime.datetime.now()\n",
    "print(f\"My sister is {now.year - mySister_birthday.year} years old.\")"
   ]
  },
  {
   "cell_type": "markdown",
   "id": "8fa1f76e-488b-4bf9-a7d4-61ef5f5d21db",
   "metadata": {},
   "source": [
    "<font size=\"+1\">**Practice**</font>\n",
    "\n",
    "**Try it yourself!** \n",
    "\n",
    "Bahir Dar Polytechnique Institute  was established on 12 February 1963; use `f-strings` to indicate how long ago that was."
   ]
  },
  {
   "cell_type": "code",
   "execution_count": null,
   "id": "48b8b7c6-b18c-4a46-809e-0a5c76678336",
   "metadata": {},
   "outputs": [],
   "source": [
    "bahir_dar_polytechnique_institute_founding = ...\n",
    "now = datetime.datetime.now()\n",
    "\n",
    "f\" Bbahir Dar Polytechnique Institute was established {... - ...} years ago.\""
   ]
  },
  {
   "cell_type": "code",
   "execution_count": null,
   "id": "2f540192-2623-4a1b-bf3e-07d44c03a765",
   "metadata": {},
   "outputs": [],
   "source": []
  },
  {
   "cell_type": "code",
   "execution_count": null,
   "id": "a520f671-0c32-486c-a6a3-38654f55227a",
   "metadata": {},
   "outputs": [],
   "source": []
  },
  {
   "cell_type": "markdown",
   "id": "523f4604-f7c7-421c-9dc9-21c4955bdc4f",
   "metadata": {},
   "source": [
    "# Functions"
   ]
  },
  {
   "cell_type": "markdown",
   "id": "22ecaf78-f126-4e9a-a40a-74e87e7d68bf",
   "metadata": {},
   "source": [
    "When we code in Python, we want to create **readable** programs. One of the easiest ways to make a program readable is by not repeating sections of code that do the same thing. We do that by using `functions`. \n",
    "\n",
    "For example, you might have a closing price of a commodity in ETB , but you want to see it in USD. Assumeing that the rate at the specific date is 1USD=56.95 ETB, you can write a function that starts with the closing price  in ETB, and gives as output the closing price in USD. The code looks like this:"
   ]
  },
  {
   "cell_type": "code",
   "execution_count": 38,
   "id": "d5aecfbf-6486-4a63-b1ff-8e49135d7324",
   "metadata": {},
   "outputs": [],
   "source": [
    "def etb2usd(closingPrice_etb):\n",
    "    \"\"\"\n",
    "    This function takes the closing price of the commodity in ETB  as an input\n",
    "    and returns the closing price in USD as output\n",
    "\n",
    "    input: closingPrice_etb, the closing price in ETB\n",
    "    output: closingPrice_usd, the closing price in USD\n",
    "    \"\"\"\n",
    "\n",
    "    closingPrice_usd = closingPrice_etb/56.95\n",
    "    return closingPrice_usd"
   ]
  },
  {
   "cell_type": "code",
   "execution_count": 39,
   "id": "8edc9b7e-6acf-4b0a-a101-d4b1569d0f39",
   "metadata": {},
   "outputs": [
    {
     "data": {
      "text/plain": [
       "87.79631255487269"
      ]
     },
     "execution_count": 39,
     "metadata": {},
     "output_type": "execute_result"
    }
   ],
   "source": [
    "etb2usd(5000)"
   ]
  },
  {
   "cell_type": "code",
   "execution_count": null,
   "id": "73b2658d-9627-4ea9-ac81-cf1d043ee47b",
   "metadata": {},
   "outputs": [],
   "source": []
  },
  {
   "cell_type": "code",
   "execution_count": 56,
   "id": "d0bc7655-e9ee-493c-bdab-edac18bdf77d",
   "metadata": {},
   "outputs": [],
   "source": [
    "def convert_closingPrice(closingPrice_etb):\n",
    "   \n",
    "    \"\"\"\n",
    "    This function takes the closing price of the commodity in ETB  as an input\n",
    "    and returns the closing price in USD as output\n",
    "\n",
    "    input: closingPrice_etb, the closing price in ETB\n",
    "    output: closingPrice_usd, the closing price in USD\n",
    "    \"\"\"\n",
    "    closingPrice_usd = [item/56.95 for item in closingPrice_etb]\n",
    "    return closingPrice_usd\n"
   ]
  },
  {
   "cell_type": "markdown",
   "id": "2749d698-7ffe-4bd7-82d0-6acdb7d4a823",
   "metadata": {},
   "source": [
    "##### Let's try it and see what happens:"
   ]
  },
  {
   "cell_type": "code",
   "execution_count": 57,
   "id": "ef699041-7384-4d74-9634-6be2b754a30c",
   "metadata": {},
   "outputs": [],
   "source": [
    "closingPrice_in_etb = [4500.0, 5768.0, 5120.0,4998.0,4567.50]"
   ]
  },
  {
   "cell_type": "code",
   "execution_count": 59,
   "id": "6878b3a3-fd39-4237-bdf8-07e5fbe4aa5c",
   "metadata": {},
   "outputs": [
    {
     "name": "stdout",
     "output_type": "stream",
     "text": [
      "[79.01668129938543, 101.28182616330113, 89.90342405618964, 87.76119402985074, 80.20193151887621]\n"
     ]
    }
   ],
   "source": [
    "closingPrice_in_usd = convert_closingPrice(closingPrice_in_etb)\n",
    "print(closingPrice_in_usd)"
   ]
  },
  {
   "cell_type": "markdown",
   "id": "c93e788e-8ce2-4f49-bab8-27912a90646c",
   "metadata": {},
   "source": [
    "<font size=\"+1\">**Practice**</font>\n",
    "\n",
    "**Try it yourself!** \n",
    "\n",
    "Now write a function that returns the greatest closing price of the commodity in USD for a list of closing price in ETB  and then use your function for the list `closingPrice_in_etb`."
   ]
  },
  {
   "cell_type": "code",
   "execution_count": null,
   "id": "5fcf0a5a-f151-4813-ba8c-93396b93660f",
   "metadata": {},
   "outputs": [],
   "source": [
    "def find_max_closingPrice_usd(closingPrice_etb):\n",
    "    \"\"\"Find the maximum closing price given a list\n",
    "\n",
    "    Parameters\n",
    "    ----------\n",
    "    pclosingPrice_etb : list of closing price of the commodity\n",
    "\n",
    "    Returns\n",
    "    -------\n",
    "    the maximum closing price in USD \n",
    "    \"\"\"\n",
    "    \n",
    "    return ...\n",
    "\n",
    "\n",
    "find_max_closingPrice_usd(closingPrice_in_etb)"
   ]
  },
  {
   "cell_type": "markdown",
   "id": "e968db86-51b9-4523-b80d-9010362ed6f6",
   "metadata": {},
   "source": [
    "## Lambda Functions <a id='lambda-functions'></a>"
   ]
  },
  {
   "cell_type": "markdown",
   "id": "0be7a77b-49b0-4801-a2b7-1b9ddaa5e26d",
   "metadata": {},
   "source": [
    "The function definitions we have been working with so far are fine for most purposes, but they can easily become a little long. When that happens, you might want to use a shorter method to expressing a function; that's what `lambda` functions are for. Here's code for a function which adds 10 to a number."
   ]
  },
  {
   "cell_type": "code",
   "execution_count": 60,
   "id": "6848ff58-9dce-43f8-ae1c-b3c0e2ea1ec2",
   "metadata": {},
   "outputs": [],
   "source": [
    "add_ten = lambda a: a + 10  # lambda function"
   ]
  },
  {
   "cell_type": "code",
   "execution_count": 61,
   "id": "9844ada4-03e6-47fb-8801-2985faf4b275",
   "metadata": {},
   "outputs": [
    {
     "data": {
      "text/plain": [
       "15"
      ]
     },
     "execution_count": 61,
     "metadata": {},
     "output_type": "execute_result"
    }
   ],
   "source": [
    "add_ten(5)"
   ]
  },
  {
   "cell_type": "markdown",
   "id": "fc10e207-3d22-4a21-9a36-23ce4422bde2",
   "metadata": {},
   "source": [
    "<font size=\"+1\">**Practice**</font>\n",
    "\n",
    "**Try it yourself!**\n",
    "\n",
    "Write a lambda function called `mult_five` which will multiply by 5 for a given number, and then try it out with the number 20."
   ]
  },
  {
   "cell_type": "code",
   "execution_count": 62,
   "id": "4ea24d74-062f-4f15-95f5-126442c750b9",
   "metadata": {},
   "outputs": [],
   "source": [
    "mult_five = ..."
   ]
  },
  {
   "cell_type": "markdown",
   "id": "87114fe1-66a1-4654-aa10-496b913aafe5",
   "metadata": {},
   "source": [
    "# Working with Errors"
   ]
  },
  {
   "cell_type": "markdown",
   "id": "5a655dd9-efd2-4638-a687-7c74c17f6c9f",
   "metadata": {},
   "source": [
    "Error handling is a very important part of coding. It will make sure our code runs smoothly even with edge cases. `try` and `except` are the syntax we use in error handling. Let's create a function to demonstrate how this works. \n",
    "\n",
    "We start with a function that calculates the quotient of two numbers. There are two inputs of the function: `nominator` and `denominator`. The function works only when:\n",
    "\n",
    "* both inputs are numerical numbers\n",
    "* the denominator is not zero\n",
    "\n",
    "We can use `try` and `except` to make sure the function runs smoothly even with error inputs."
   ]
  },
  {
   "cell_type": "code",
   "execution_count": 68,
   "id": "4a5879a3-6ba7-4abd-b444-e6407d2bb6ba",
   "metadata": {},
   "outputs": [],
   "source": [
    "def get_quotient(nominator, denominator):\n",
    "    try:\n",
    "        quotient = nominator / denominator\n",
    "        return quotient\n",
    "    except:  # noQA E722\n",
    "        return print(\"function not working\")"
   ]
  },
  {
   "cell_type": "markdown",
   "id": "a6fedf70-5ac8-4678-9299-cedade04a470",
   "metadata": {},
   "source": [
    "The function will return the quotient as long as there are no errors."
   ]
  },
  {
   "cell_type": "code",
   "execution_count": 69,
   "id": "a30ff351-e0f2-4aec-97ac-61c131617426",
   "metadata": {},
   "outputs": [
    {
     "data": {
      "text/plain": [
       "0.5"
      ]
     },
     "execution_count": 69,
     "metadata": {},
     "output_type": "execute_result"
    }
   ],
   "source": [
    "get_quotient(1, 2)"
   ]
  },
  {
   "cell_type": "markdown",
   "id": "545e2ece-ef4b-4ef7-b010-2eb13fd18b60",
   "metadata": {},
   "source": [
    "The function will go the `except` section and print a message when inputs are wrong:"
   ]
  },
  {
   "cell_type": "code",
   "execution_count": 70,
   "id": "552f6dcc-4b37-4e11-9111-672800524344",
   "metadata": {},
   "outputs": [
    {
     "name": "stdout",
     "output_type": "stream",
     "text": [
      "function not working\n"
     ]
    }
   ],
   "source": [
    "get_quotient(1, 0)"
   ]
  },
  {
   "cell_type": "markdown",
   "id": "e045c14f-6411-4086-9265-a9d3a4ae7b5d",
   "metadata": {},
   "source": [
    "## Raising Errors"
   ]
  },
  {
   "cell_type": "markdown",
   "id": "1030a547-6356-4b0d-9d87-54b033e5501f",
   "metadata": {},
   "source": [
    "Even though the previous function can handle the errors, it doesn't tell us what is the error causing the issue. In this case, we can print out the error message"
   ]
  },
  {
   "cell_type": "code",
   "execution_count": 72,
   "id": "e9806dd7-fb82-4edb-b39f-13323bd632cc",
   "metadata": {},
   "outputs": [],
   "source": [
    "def get_quotient(nominator, denominator):\n",
    "    try:\n",
    "        quotient = nominator / denominator\n",
    "        return quotient\n",
    "    except Exception as e:\n",
    "        return print(e)"
   ]
  },
  {
   "cell_type": "markdown",
   "id": "ec4cfa80-d8c8-46b5-9be1-aaad8e80cb3c",
   "metadata": {},
   "source": [
    "Now we can see the error message when denominator is zero:"
   ]
  },
  {
   "cell_type": "code",
   "execution_count": 73,
   "id": "edf49106-9442-4b84-a2f4-a03c02593087",
   "metadata": {},
   "outputs": [
    {
     "name": "stdout",
     "output_type": "stream",
     "text": [
      "division by zero\n"
     ]
    }
   ],
   "source": [
    "get_quotient(1, 0)"
   ]
  },
  {
   "cell_type": "markdown",
   "id": "e1d5705c-5281-4cfc-bff0-c674f35dd598",
   "metadata": {},
   "source": [
    "And the error message when inputs are not numerical:"
   ]
  },
  {
   "cell_type": "code",
   "execution_count": 74,
   "id": "b808ded2-f192-4cce-b684-ca322dbf1cac",
   "metadata": {},
   "outputs": [
    {
     "name": "stdout",
     "output_type": "stream",
     "text": [
      "unsupported operand type(s) for /: 'int' and 'str'\n"
     ]
    }
   ],
   "source": [
    "get_quotient(1, \"0\")"
   ]
  },
  {
   "cell_type": "markdown",
   "id": "15d56b0f-4b50-4a8a-b6bf-253661cd7bde",
   "metadata": {},
   "source": [
    "<font size=\"+1\">**Practice**</font>\n",
    "\n",
    "**Try it yourself!**\n",
    "\n",
    "Rebuild the `find_max_closingPrice_usd` function by adding error handling here, and make sure to raise errors when encounter one."
   ]
  },
  {
   "cell_type": "code",
   "execution_count": null,
   "id": "19a5c97b-e770-46db-8a67-077ebbfb880d",
   "metadata": {},
   "outputs": [],
   "source": [
    "def find_max_closingPrice_usd(closingPrice_etb):\n",
    "    \"\"\"Find the maximum closing price given a list\n",
    "\n",
    "    Parameters\n",
    "    ----------\n",
    "    pclosingPrice_etb : list of closing price of the commodity\n",
    "\n",
    "    Returns\n",
    "    -------\n",
    "    the maximum closing price in USD \n",
    "    \"\"\"\n",
    "    \n",
    "    return ...\n",
    "\n",
    "closingPrice_etb = [4300.50, 3987.2, 41050.0,4222.80]\n",
    "find_max_closingPrice_usd(price_usd_per_m2)"
   ]
  },
  {
   "cell_type": "code",
   "execution_count": null,
   "id": "84d82410-0213-4b9a-b2ed-b8a10802c670",
   "metadata": {},
   "outputs": [],
   "source": [
    "closingPrice_etb = [4300.50, \"3987.2\", 41050.0,4222.80]\n",
    "find_max_closingPrice_usd(price_usd_per_m2)"
   ]
  },
  {
   "cell_type": "markdown",
   "id": "1acd6f02-6f6d-47c0-9967-1071ed33278e",
   "metadata": {},
   "source": [
    "# Files"
   ]
  },
  {
   "cell_type": "markdown",
   "id": "76c739dd-8a79-45c2-9779-b35f0eaf99f0",
   "metadata": {},
   "source": [
    "## Create files using Context Manager\n",
    "\n",
    "A **context manager** allows you to allocate and release resources precisely when you want to. \n",
    "\n",
    "- The most widely used example of context managers is the `with` statement.\n",
    "- Suppose you have two related operations which you would like to execute as a pair, with a block of code in between. Context managers allow you to do specifically that. For example:"
   ]
  },
  {
   "cell_type": "code",
   "execution_count": 2,
   "id": "fc664b92-eecc-4dab-86f1-56dc10eccc7f",
   "metadata": {},
   "outputs": [],
   "source": [
    "with open(\"Sample/demo.txt\", \"w\") as f:\n",
    "    f.write(\"Python is one of the important Programming language for Machine Learning and  Data science\")"
   ]
  },
  {
   "cell_type": "markdown",
   "id": "42839792-5347-45fe-bc4e-a39ab7bbcd25",
   "metadata": {},
   "source": [
    "The code above will create a file called `demo.txt` inside the `ECXDateRelated` directory, with only one line: `\"ython is one of the important Programming language for Machine Learning and  Data science\"`. We can add multiple lines to the file by adding the `/n` to separate the line."
   ]
  },
  {
   "cell_type": "code",
   "execution_count": 3,
   "id": "4242c9e1-9897-480f-ba54-06c9bd30396d",
   "metadata": {},
   "outputs": [],
   "source": [
    "with open(\"Sample/demo.txt\", \"w\") as f:\n",
    "    f.write(\"Python is one of the important Programming language for Machine Learning and  Data science\")\n",
    "    f.write(\"\\n\")\n",
    "    f.write(\"Many of the machine learning algorithms are implemented for Python language\")"
   ]
  },
  {
   "cell_type": "markdown",
   "id": "99e1fde9-6faf-4d15-97a0-a4a17443b0d0",
   "metadata": {},
   "source": [
    "<font size=\"+1\">**Practice**</font>\n",
    "\n",
    "**Try it yourself!**\n",
    "\n",
    "Create a `txt` file named `practice.txt` inside the `Sample` directory with four lines using context manager. Be sure that you created a dierectory called  `Sample` unsder the current working directory "
   ]
  },
  {
   "cell_type": "code",
   "execution_count": null,
   "id": "41afeb23-4ff9-4059-bd3c-c6d73046e17b",
   "metadata": {},
   "outputs": [],
   "source": []
  },
  {
   "cell_type": "markdown",
   "id": "fdcc324a-6bdd-45db-8181-16ee27b16212",
   "metadata": {},
   "source": [
    "# Working with Filepaths"
   ]
  },
  {
   "cell_type": "markdown",
   "id": "d10cc23c-4b00-4e07-80dc-3cbd6096085f",
   "metadata": {},
   "source": [
    "A **filepath** is a directory to a specific file. Python uses the `os` module to work with path names and access files in the local directory. Here are some common use cases of the `os` module:"
   ]
  },
  {
   "cell_type": "markdown",
   "id": "bd1a822c-f3fa-47a9-a409-13aa0e35a4b0",
   "metadata": {},
   "source": [
    "`os.getcwd()` points to the current working directory:"
   ]
  },
  {
   "cell_type": "code",
   "execution_count": 4,
   "id": "23d686af-8a0b-4ea2-930c-f48572680574",
   "metadata": {},
   "outputs": [
    {
     "name": "stdout",
     "output_type": "stream",
     "text": [
      "Current working directory is at /home/hdoop/Desktop/SummerSchool\n"
     ]
    }
   ],
   "source": [
    "import os\n",
    "\n",
    "print(f\"Current working directory is at {os.getcwd()}\")"
   ]
  },
  {
   "cell_type": "markdown",
   "id": "954786aa-a254-4ebf-8857-b58168d1456b",
   "metadata": {},
   "source": [
    "Let's see the following functions with an example. The path name shows the directory to a file called `myfile.txt`:"
   ]
  },
  {
   "cell_type": "code",
   "execution_count": 5,
   "id": "d62e4d49-cd66-47d5-97e6-173bb457857b",
   "metadata": {},
   "outputs": [],
   "source": [
    "pathname = \"/home/hdoop/Desktop/SummerSchool/sample/demo.txt\"\n"
   ]
  },
  {
   "cell_type": "markdown",
   "id": "cebf6574-f82b-48aa-8efd-7a70aca03b78",
   "metadata": {},
   "source": [
    "**1. Path Name**\n",
    "\n",
    "`os.path.abspath()` returns a path name to the path passed as the parameter to this function."
   ]
  },
  {
   "cell_type": "code",
   "execution_count": 6,
   "id": "d310d370-756b-4734-b44b-0a25b27f2c2f",
   "metadata": {},
   "outputs": [
    {
     "data": {
      "text/plain": [
       "'/home/hdoop/Desktop/SummerSchool/sample/demo.txt'"
      ]
     },
     "execution_count": 6,
     "metadata": {},
     "output_type": "execute_result"
    }
   ],
   "source": [
    "os.path.abspath(pathname)"
   ]
  },
  {
   "cell_type": "markdown",
   "id": "28e02684-aa3f-47d1-bf95-928bed4359d3",
   "metadata": {},
   "source": [
    "If you only give a file name as the parameter, it will return a path with the current working directory and the file name:"
   ]
  },
  {
   "cell_type": "code",
   "execution_count": 8,
   "id": "9a521510-a685-4b94-a69c-9e5bda88ddd2",
   "metadata": {},
   "outputs": [
    {
     "data": {
      "text/plain": [
       "'/home/hdoop/Desktop/SummerSchool/demo1.txt'"
      ]
     },
     "execution_count": 8,
     "metadata": {},
     "output_type": "execute_result"
    }
   ],
   "source": [
    "filename = \"demo1.txt\"\n",
    "os.path.abspath(filename)"
   ]
  },
  {
   "cell_type": "markdown",
   "id": "6c2b6b09-ae52-491f-9749-6efb7ceefe23",
   "metadata": {
    "slideshow": {
     "slide_type": ""
    },
    "tags": []
   },
   "source": [
    "**2. Directory Name**\n",
    "\n",
    "`os.path.dirname()` will leave the file name part, and only show the directory of a path name."
   ]
  },
  {
   "cell_type": "code",
   "execution_count": 9,
   "id": "88b3ca16-d493-46a7-a373-29dcc1c95a8f",
   "metadata": {
    "slideshow": {
     "slide_type": ""
    },
    "tags": []
   },
   "outputs": [
    {
     "data": {
      "text/plain": [
       "'/home/hdoop/Desktop/SummerSchool/sample'"
      ]
     },
     "execution_count": 9,
     "metadata": {},
     "output_type": "execute_result"
    }
   ],
   "source": [
    "os.path.dirname(pathname)"
   ]
  },
  {
   "cell_type": "markdown",
   "id": "756e3973-6a5c-4db5-b968-8be3f2dc084f",
   "metadata": {},
   "source": [
    "**3. File Name**\n",
    "\n",
    " `os.path.basename()` will only show the file name of a path name:\n"
   ]
  },
  {
   "cell_type": "code",
   "execution_count": 10,
   "id": "ac2505f4-196b-4d84-b2a4-888a8226c0ef",
   "metadata": {},
   "outputs": [
    {
     "data": {
      "text/plain": [
       "'demo.txt'"
      ]
     },
     "execution_count": 10,
     "metadata": {},
     "output_type": "execute_result"
    }
   ],
   "source": [
    "os.path.basename(pathname)"
   ]
  },
  {
   "cell_type": "markdown",
   "id": "bf4ae263-81ef-49b3-80e5-e0f11d854587",
   "metadata": {},
   "source": [
    "**4. Path and File Name**\n",
    "\n",
    "The `os.path.split()` function splits a full path name and returns a tuple containing the path and filename. The first part of the tuple is the path to the file, the second part is the file:"
   ]
  },
  {
   "cell_type": "code",
   "execution_count": 11,
   "id": "7abaa6b9-c3a2-4f6f-a44e-e873de26f8c1",
   "metadata": {},
   "outputs": [
    {
     "data": {
      "text/plain": [
       "('/home/hdoop/Desktop/SummerSchool/sample', 'demo.txt')"
      ]
     },
     "execution_count": 11,
     "metadata": {},
     "output_type": "execute_result"
    }
   ],
   "source": [
    "os.path.split(pathname)"
   ]
  },
  {
   "cell_type": "markdown",
   "id": "ddaf5b39-3693-4d83-a561-ba0ff87a803d",
   "metadata": {},
   "source": [
    "**5. Join Path and File name**\n",
    "\n",
    "The `os.path.join()` function constructs a path name out of one or more partial path names. Note the function will add an extra slash to the path name before joining it to the filename."
   ]
  },
  {
   "cell_type": "code",
   "execution_count": 13,
   "id": "8d5da991-ed72-4756-8900-ee68a88323ec",
   "metadata": {},
   "outputs": [
    {
     "name": "stdout",
     "output_type": "stream",
     "text": [
      "/new_directory/newfile.txt\n"
     ]
    }
   ],
   "source": [
    "print(os.path.join(\"/new_directory\", \"newfile.txt\"))"
   ]
  },
  {
   "cell_type": "markdown",
   "id": "2c6da18c-2001-4374-9309-eed76f835641",
   "metadata": {},
   "source": [
    "\n",
    "## Saving and Loading Files with joblib"
   ]
  },
  {
   "cell_type": "markdown",
   "id": "f6332b92-e4b2-4014-a919-70f582c13a6e",
   "metadata": {},
   "source": [
    "We can also use `joblib`'s `dump` and `load` functions to save and load data. Besides saving and loading data, we can also save and load trained models for later use. Let's say an example here. First, we import `joblib` and train a model for the dataset:"
   ]
  },
  {
   "cell_type": "code",
   "execution_count": 15,
   "id": "5e6001e0-1588-4ce4-8ced-4531a8e9e5e6",
   "metadata": {},
   "outputs": [
    {
     "data": {
      "text/html": [
       "<style>#sk-container-id-2 {color: black;}#sk-container-id-2 pre{padding: 0;}#sk-container-id-2 div.sk-toggleable {background-color: white;}#sk-container-id-2 label.sk-toggleable__label {cursor: pointer;display: block;width: 100%;margin-bottom: 0;padding: 0.3em;box-sizing: border-box;text-align: center;}#sk-container-id-2 label.sk-toggleable__label-arrow:before {content: \"▸\";float: left;margin-right: 0.25em;color: #696969;}#sk-container-id-2 label.sk-toggleable__label-arrow:hover:before {color: black;}#sk-container-id-2 div.sk-estimator:hover label.sk-toggleable__label-arrow:before {color: black;}#sk-container-id-2 div.sk-toggleable__content {max-height: 0;max-width: 0;overflow: hidden;text-align: left;background-color: #f0f8ff;}#sk-container-id-2 div.sk-toggleable__content pre {margin: 0.2em;color: black;border-radius: 0.25em;background-color: #f0f8ff;}#sk-container-id-2 input.sk-toggleable__control:checked~div.sk-toggleable__content {max-height: 200px;max-width: 100%;overflow: auto;}#sk-container-id-2 input.sk-toggleable__control:checked~label.sk-toggleable__label-arrow:before {content: \"▾\";}#sk-container-id-2 div.sk-estimator input.sk-toggleable__control:checked~label.sk-toggleable__label {background-color: #d4ebff;}#sk-container-id-2 div.sk-label input.sk-toggleable__control:checked~label.sk-toggleable__label {background-color: #d4ebff;}#sk-container-id-2 input.sk-hidden--visually {border: 0;clip: rect(1px 1px 1px 1px);clip: rect(1px, 1px, 1px, 1px);height: 1px;margin: -1px;overflow: hidden;padding: 0;position: absolute;width: 1px;}#sk-container-id-2 div.sk-estimator {font-family: monospace;background-color: #f0f8ff;border: 1px dotted black;border-radius: 0.25em;box-sizing: border-box;margin-bottom: 0.5em;}#sk-container-id-2 div.sk-estimator:hover {background-color: #d4ebff;}#sk-container-id-2 div.sk-parallel-item::after {content: \"\";width: 100%;border-bottom: 1px solid gray;flex-grow: 1;}#sk-container-id-2 div.sk-label:hover label.sk-toggleable__label {background-color: #d4ebff;}#sk-container-id-2 div.sk-serial::before {content: \"\";position: absolute;border-left: 1px solid gray;box-sizing: border-box;top: 0;bottom: 0;left: 50%;z-index: 0;}#sk-container-id-2 div.sk-serial {display: flex;flex-direction: column;align-items: center;background-color: white;padding-right: 0.2em;padding-left: 0.2em;position: relative;}#sk-container-id-2 div.sk-item {position: relative;z-index: 1;}#sk-container-id-2 div.sk-parallel {display: flex;align-items: stretch;justify-content: center;background-color: white;position: relative;}#sk-container-id-2 div.sk-item::before, #sk-container-id-2 div.sk-parallel-item::before {content: \"\";position: absolute;border-left: 1px solid gray;box-sizing: border-box;top: 0;bottom: 0;left: 50%;z-index: -1;}#sk-container-id-2 div.sk-parallel-item {display: flex;flex-direction: column;z-index: 1;position: relative;background-color: white;}#sk-container-id-2 div.sk-parallel-item:first-child::after {align-self: flex-end;width: 50%;}#sk-container-id-2 div.sk-parallel-item:last-child::after {align-self: flex-start;width: 50%;}#sk-container-id-2 div.sk-parallel-item:only-child::after {width: 0;}#sk-container-id-2 div.sk-dashed-wrapped {border: 1px dashed gray;margin: 0 0.4em 0.5em 0.4em;box-sizing: border-box;padding-bottom: 0.4em;background-color: white;}#sk-container-id-2 div.sk-label label {font-family: monospace;font-weight: bold;display: inline-block;line-height: 1.2em;}#sk-container-id-2 div.sk-label-container {text-align: center;}#sk-container-id-2 div.sk-container {/* jupyter's `normalize.less` sets `[hidden] { display: none; }` but bootstrap.min.css set `[hidden] { display: none !important; }` so we also need the `!important` here to be able to override the default hidden behavior on the sphinx rendered scikit-learn.org. See: https://github.com/scikit-learn/scikit-learn/issues/21755 */display: inline-block !important;position: relative;}#sk-container-id-2 div.sk-text-repr-fallback {display: none;}</style><div id=\"sk-container-id-2\" class=\"sk-top-container\"><div class=\"sk-text-repr-fallback\"><pre>SVC()</pre><b>In a Jupyter environment, please rerun this cell to show the HTML representation or trust the notebook. <br />On GitHub, the HTML representation is unable to render, please try loading this page with nbviewer.org.</b></div><div class=\"sk-container\" hidden><div class=\"sk-item\"><div class=\"sk-estimator sk-toggleable\"><input class=\"sk-toggleable__control sk-hidden--visually\" id=\"sk-estimator-id-2\" type=\"checkbox\" checked><label for=\"sk-estimator-id-2\" class=\"sk-toggleable__label sk-toggleable__label-arrow\">SVC</label><div class=\"sk-toggleable__content\"><pre>SVC()</pre></div></div></div></div></div>"
      ],
      "text/plain": [
       "SVC()"
      ]
     },
     "execution_count": 15,
     "metadata": {},
     "output_type": "execute_result"
    }
   ],
   "source": [
    "from joblib import dump, load\n",
    "from sklearn import datasets, svm\n",
    "\n",
    "iris = datasets.load_iris()\n",
    "X, y = iris.data, iris.target\n",
    "\n",
    "svm_model = svm.SVC()\n",
    "svm_model.fit(X, y)"
   ]
  },
  {
   "cell_type": "markdown",
   "id": "7e3dbc9c-32a5-44bc-9ec1-7b46894708e1",
   "metadata": {},
   "source": [
    "**Saving model to a path**"
   ]
  },
  {
   "cell_type": "code",
   "execution_count": 16,
   "id": "5bb19249-29a9-4f0f-a225-7c2724f1d098",
   "metadata": {},
   "outputs": [
    {
     "data": {
      "text/plain": [
       "['Model/svmTrained_model.pkl']"
      ]
     },
     "execution_count": 16,
     "metadata": {},
     "output_type": "execute_result"
    }
   ],
   "source": [
    "# Saving model to a path\n",
    "\n",
    "dump(svm_model, \"Model/svmTrained_model.pkl\")"
   ]
  },
  {
   "cell_type": "markdown",
   "id": "aa266e4d-1aba-4452-afaa-8ae5d7326bcd",
   "metadata": {},
   "source": [
    "**Load data from a path and make predictions again**"
   ]
  },
  {
   "cell_type": "code",
   "execution_count": 17,
   "id": "ec04dc8d-3b6b-43b7-a9a2-561c3bc39774",
   "metadata": {},
   "outputs": [
    {
     "data": {
      "text/plain": [
       "memmap([0, 0, 0, 0, 0, 0, 0, 0, 0, 0, 0, 0, 0, 0, 0, 0, 0, 0, 0, 0, 0, 0,\n",
       "        0, 0, 0, 0, 0, 0, 0, 0, 0, 0, 0, 0, 0, 0, 0, 0, 0, 0, 0, 0, 0, 0,\n",
       "        0, 0, 0, 0, 0, 0, 1, 1, 1, 1, 1, 1, 1, 1, 1, 1, 1, 1, 1, 1, 1, 1,\n",
       "        1, 1, 1, 1, 1, 1, 1, 1, 1, 1, 1, 2, 1, 1, 1, 1, 1, 2, 1, 1, 1, 1,\n",
       "        1, 1, 1, 1, 1, 1, 1, 1, 1, 1, 1, 1, 2, 2, 2, 2, 2, 2, 1, 2, 2, 2,\n",
       "        2, 2, 2, 2, 2, 2, 2, 2, 2, 2, 2, 2, 2, 2, 2, 2, 2, 2, 2, 2, 2, 2,\n",
       "        2, 2, 2, 2, 2, 2, 1, 2, 2, 2, 2, 2, 2, 2, 2, 2, 2, 2])"
      ]
     },
     "execution_count": 17,
     "metadata": {},
     "output_type": "execute_result"
    }
   ],
   "source": [
    "# Load data from a path and make predictions again\n",
    "\n",
    "model = load(\"Model/svmTrained_model.pkl\", mmap_mode=\"r\")\n",
    "\n",
    "model.predict(X)"
   ]
  },
  {
   "cell_type": "markdown",
   "id": "d51bb109-0d72-4227-8071-cae4ef532814",
   "metadata": {},
   "source": [
    "# References and Further Reading"
   ]
  },
  {
   "cell_type": "code",
   "execution_count": null,
   "id": "f4dd6a16-169d-4499-82d9-7aa11f4a8a50",
   "metadata": {},
   "outputs": [],
   "source": []
  }
 ],
 "metadata": {
  "kernelspec": {
   "display_name": "Python 3 (ipykernel)",
   "language": "python",
   "name": "python3"
  },
  "language_info": {
   "codemirror_mode": {
    "name": "ipython",
    "version": 3
   },
   "file_extension": ".py",
   "mimetype": "text/x-python",
   "name": "python",
   "nbconvert_exporter": "python",
   "pygments_lexer": "ipython3",
   "version": "3.9.13"
  }
 },
 "nbformat": 4,
 "nbformat_minor": 5
}
